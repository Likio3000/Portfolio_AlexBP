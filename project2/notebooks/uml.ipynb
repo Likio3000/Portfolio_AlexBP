{
 "cells": [
  {
   "cell_type": "markdown",
   "metadata": {},
   "source": [
    "# Unified modelling language (UML) 2.0 is meta\n",
    "\n",
    "# Standard notation that can be used for all Object Oriented Programming.\n",
    "\n",
    "\n",
    "# 2 types of UML Diagrams:\n",
    "\n",
    "    1- Structural Diagrams:\n",
    "        Composite Structure Diagram, Deployment Diagram, Package Diagram, Profile Diagram, Class Diagram, Object Diagram, Componenet Diagram\n",
    "\n",
    "    2- Behavioural Diagrams:\n",
    "        Activity Diagram, Use Case Diagram, State Machine Diagram, Interaction Diagram __________ Sequence Diagram, Communication Diagram, Interaction Overview Diagram, Timing Diagram"
   ]
  },
  {
   "cell_type": "code",
   "execution_count": null,
   "metadata": {
    "vscode": {
     "languageId": "plaintext"
    }
   },
   "outputs": [],
   "source": []
  },
  {
   "cell_type": "markdown",
   "metadata": {},
   "source": []
  }
 ],
 "metadata": {
  "language_info": {
   "name": "python"
  }
 },
 "nbformat": 4,
 "nbformat_minor": 2
}
