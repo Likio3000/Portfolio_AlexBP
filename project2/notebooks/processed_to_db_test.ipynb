{
 "cells": [
  {
   "cell_type": "markdown",
   "metadata": {},
   "source": [
    "# Creating a db for Preprocessed_BTC_data"
   ]
  },
  {
   "cell_type": "code",
   "execution_count": 2,
   "metadata": {},
   "outputs": [],
   "source": [
    "\n",
    "import pandas as pd\n",
    "import numpy as np\n",
    "import pandas as pd\n",
    "import numpy as np\n",
    "import sqlite3\n",
    "from contextlib import closing"
   ]
  },
  {
   "cell_type": "code",
   "execution_count": 3,
   "metadata": {},
   "outputs": [],
   "source": [
    "df = pd.read_csv('../processed_data/processed_BTC_data.csv')"
   ]
  },
  {
   "cell_type": "code",
   "execution_count": 7,
   "metadata": {},
   "outputs": [
    {
     "name": "stdout",
     "output_type": "stream",
     "text": [
      "   index     open     high      low    close          vwap      upper_b1  \\\n",
      "0      0  19990.5  20000.0  19945.0  19975.0  20051.911081  20105.414350   \n",
      "1      1  19975.0  19975.0  19876.0  19933.0  20039.109666  20102.269953   \n",
      "2      2  19933.0  19961.5  19878.0  19898.0  20032.127497  20099.983866   \n",
      "3      3  19898.0  19908.0  19771.0  19879.0  20012.464334  20097.564922   \n",
      "4      4  19879.0  19924.5  19862.0  19891.5  20007.578221  20094.228099   \n",
      "\n",
      "       lower_b1      upper_b2      lower_b2  ...          twap    volume  \\\n",
      "0  19998.407813  20158.917619  19944.904544  ...  20068.875000  1404.391   \n",
      "1  19975.949380  20165.430240  19912.789093  ...  20064.422414  3596.456   \n",
      "2  19964.271127  20167.840235  19896.414758  ...  20059.529167  2031.825   \n",
      "3  19927.363747  20182.665509  19842.263160  ...  20053.221774  4533.626   \n",
      "4  19920.928343  20180.877977  19834.278464  ...  20048.097656  1759.389   \n",
      "\n",
      "    volume_ma        adx           efi        atr        obv       roc  \\\n",
      "0  1079.07575  33.073108 -12916.006674  68.322402  -5436.203 -0.388969   \n",
      "1  1220.29990  34.286679 -32649.598863  70.513659  -9032.659 -0.558743   \n",
      "2  1298.35450  35.413566 -38144.495454  71.441255 -11064.484 -0.889099   \n",
      "3  1486.23915  37.199831 -45000.838103  76.124022 -15598.110 -1.153598   \n",
      "4  1512.31630  38.476938 -35430.380874  75.150878 -13838.721 -1.017615   \n",
      "\n",
      "          cci  target_close  \n",
      "0 -128.941675       19933.0  \n",
      "1 -174.971402       19898.0  \n",
      "2 -170.945798       19879.0  \n",
      "3 -210.705421       19891.5  \n",
      "4 -141.899230       19924.5  \n",
      "\n",
      "[5 rows x 26 columns]\n"
     ]
    }
   ],
   "source": [
    "\n",
    "\n",
    "def read_csv_to_dataframe(file_path):\n",
    "    try:\n",
    "        return pd.read_csv(file_path)\n",
    "    except Exception as e:\n",
    "        print(f\"An error occurred while reading the CSV file: {e}\")\n",
    "        return None\n",
    "\n",
    "def create_sqlite_db(dataframe, table_name, conn):\n",
    "    try:\n",
    "        dataframe.to_sql(table_name, conn, if_exists='replace')\n",
    "    except Exception as e:\n",
    "        print(f\"An error occurred while creating the SQLite table: {e}\")\n",
    "\n",
    "def query_sqlite_db(query, conn):\n",
    "    try:\n",
    "        return pd.read_sql_query(query, conn)\n",
    "    except Exception as e:\n",
    "        print(f\"An error occurred while querying the SQLite database: {e}\")\n",
    "\n",
    "if __name__ == \"__main__\":\n",
    "    csv_file_path = '../processed_data/processed_BTC_data.csv'\n",
    "    db_file_path = 'BTC_data.db'\n",
    "    table_name = 'BTC_data'\n",
    "    \n",
    "    # Read data from CSV file into DataFrame\n",
    "    df = read_csv_to_dataframe(csv_file_path)\n",
    "    if df is not None:\n",
    "        # Create a SQLite database saved to disk\n",
    "        with closing(sqlite3.connect(db_file_path)) as conn:\n",
    "            # Create table and insert data\n",
    "            create_sqlite_db(df, table_name, conn)\n",
    "            \n",
    "            # Query to make sure the data has been inserted properly\n",
    "            query = f\"SELECT * FROM {table_name} LIMIT 5;\"\n",
    "            queried_data = query_sqlite_db(query, conn)\n",
    "            if queried_data is not None:\n",
    "                print(queried_data)\n",
    "\n"
   ]
  },
  {
   "cell_type": "code",
   "execution_count": null,
   "metadata": {},
   "outputs": [],
   "source": []
  }
 ],
 "metadata": {
  "kernelspec": {
   "display_name": "Python 3",
   "language": "python",
   "name": "python3"
  },
  "language_info": {
   "codemirror_mode": {
    "name": "ipython",
    "version": 3
   },
   "file_extension": ".py",
   "mimetype": "text/x-python",
   "name": "python",
   "nbconvert_exporter": "python",
   "pygments_lexer": "ipython3",
   "version": "3.11.3"
  }
 },
 "nbformat": 4,
 "nbformat_minor": 2
}
