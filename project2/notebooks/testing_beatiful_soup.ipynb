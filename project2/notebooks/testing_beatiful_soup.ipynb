{
 "cells": [
  {
   "cell_type": "code",
   "execution_count": 9,
   "metadata": {},
   "outputs": [
    {
     "name": "stdout",
     "output_type": "stream",
     "text": [
      "An error occurred: 'WebDriver' object has no attribute 'find_element_by_class_name'\n"
     ]
    }
   ],
   "source": [
    "from selenium import webdriver\n",
    "from selenium.webdriver.common.by import By\n",
    "from selenium.webdriver.support.ui import WebDriverWait\n",
    "from selenium.webdriver.support import expected_conditions as EC\n",
    "\n",
    "def scrape_table():\n",
    "    try:\n",
    "        driver = webdriver.Chrome()\n",
    "        driver.get('https://www.coinglass.com/es/LiquidationData')\n",
    "        \n",
    "        wait = WebDriverWait(driver, 10)\n",
    "        \n",
    "        # Wait until the table is loaded\n",
    "        wait.until(EC.presence_of_element_located((By.CLASS_NAME, 'ant-row')))\n",
    "        \n",
    "        # Find the root table element\n",
    "        table_root = driver.find_element_by_class_name('ant-row')\n",
    "        \n",
    "        # Find all row elements within the table\n",
    "        rows = table_root.find_elements_by_css_selector(\".ant-col\")\n",
    "        \n",
    "        for row in rows:\n",
    "            # Extract and print text content of each cell\n",
    "            print(row.text)\n",
    "        \n",
    "    except Exception as e:\n",
    "        print(f\"An error occurred: {e}\")\n",
    "        \n",
    "    finally:\n",
    "        driver.quit()\n",
    "\n",
    "# Run the function\n",
    "scrape_table()\n"
   ]
  },
  {
   "cell_type": "code",
   "execution_count": 10,
   "metadata": {},
   "outputs": [
    {
     "ename": "AttributeError",
     "evalue": "'WebDriver' object has no attribute 'find_element_by_xpath'",
     "output_type": "error",
     "traceback": [
      "\u001b[1;31m---------------------------------------------------------------------------\u001b[0m",
      "\u001b[1;31mAttributeError\u001b[0m                            Traceback (most recent call last)",
      "\u001b[1;32mc:\\Users\\jbethune\\Desktop\\ML_introbook\\hayqellorar\\Portfolio_AlexBP\\project2\\notebooks\\testing_beatiful_soup.ipynb Cell 2\u001b[0m line \u001b[0;36m8\n\u001b[0;32m      <a href='vscode-notebook-cell:/c%3A/Users/jbethune/Desktop/ML_introbook/hayqellorar/Portfolio_AlexBP/project2/notebooks/testing_beatiful_soup.ipynb#W1sZmlsZQ%3D%3D?line=4'>5</a>\u001b[0m driver\u001b[39m.\u001b[39mget(\u001b[39m'\u001b[39m\u001b[39mhttps://www.coinglass.com/LiquidationData\u001b[39m\u001b[39m'\u001b[39m)\n\u001b[0;32m      <a href='vscode-notebook-cell:/c%3A/Users/jbethune/Desktop/ML_introbook/hayqellorar/Portfolio_AlexBP/project2/notebooks/testing_beatiful_soup.ipynb#W1sZmlsZQ%3D%3D?line=6'>7</a>\u001b[0m \u001b[39m# Encuentra el primer \"Exchange\"\u001b[39;00m\n\u001b[1;32m----> <a href='vscode-notebook-cell:/c%3A/Users/jbethune/Desktop/ML_introbook/hayqellorar/Portfolio_AlexBP/project2/notebooks/testing_beatiful_soup.ipynb#W1sZmlsZQ%3D%3D?line=7'>8</a>\u001b[0m primer_exchange \u001b[39m=\u001b[39m driver\u001b[39m.\u001b[39;49mfind_element_by_xpath(\u001b[39m\"\u001b[39m\u001b[39m//*[text()=\u001b[39m\u001b[39m'\u001b[39m\u001b[39mExchange\u001b[39m\u001b[39m'\u001b[39m\u001b[39m]/following-sibling::div\u001b[39m\u001b[39m\"\u001b[39m)\n\u001b[0;32m     <a href='vscode-notebook-cell:/c%3A/Users/jbethune/Desktop/ML_introbook/hayqellorar/Portfolio_AlexBP/project2/notebooks/testing_beatiful_soup.ipynb#W1sZmlsZQ%3D%3D?line=9'>10</a>\u001b[0m \u001b[39m# Encuentra el valor de liquidación correspondiente (asumiendo que sigue al \"Exchange\")\u001b[39;00m\n\u001b[0;32m     <a href='vscode-notebook-cell:/c%3A/Users/jbethune/Desktop/ML_introbook/hayqellorar/Portfolio_AlexBP/project2/notebooks/testing_beatiful_soup.ipynb#W1sZmlsZQ%3D%3D?line=10'>11</a>\u001b[0m liquidacion_correspondiente \u001b[39m=\u001b[39m driver\u001b[39m.\u001b[39mfind_element_by_xpath(\u001b[39m\"\u001b[39m\u001b[39m//div[@aria-label][1]\u001b[39m\u001b[39m\"\u001b[39m)\n",
      "\u001b[1;31mAttributeError\u001b[0m: 'WebDriver' object has no attribute 'find_element_by_xpath'"
     ]
    }
   ],
   "source": [
    "# Inicializar el WebDriver (asegúrate de que el chromedriver esté en tu PATH)\n",
    "driver = webdriver.Chrome()\n",
    "\n",
    "# Cargar la página\n",
    "driver.get('https://www.coinglass.com/LiquidationData')\n",
    "\n",
    "# Encuentra el primer \"Exchange\"\n",
    "primer_exchange = driver.find_element_by_xpath(\"//*[text()='Exchange']/following-sibling::div\")\n",
    "\n",
    "# Encuentra el valor de liquidación correspondiente (asumiendo que sigue al \"Exchange\")\n",
    "liquidacion_correspondiente = driver.find_element_by_xpath(\"//div[@aria-label][1]\")\n",
    "\n",
    "# Encuentra el porcentaje de \"Short\" correspondiente\n",
    "porcentaje_short = driver.find_element_by_xpath(\"//*[contains(text(), 'Short')]/preceding-sibling::div\")\n",
    "\n",
    "# Cerrar el navegador\n",
    "driver.quit()\n",
    "\n",
    "# Imprimir los valores\n",
    "print(\"Primer Exchange:\", primer_exchange.text)\n",
    "print(\"Liquidación correspondiente:\", liquidacion_correspondiente.get_attribute('aria-label'))\n",
    "print(\"Porcentaje de Short:\", porcentaje_short.text)\n"
   ]
  },
  {
   "cell_type": "code",
   "execution_count": null,
   "metadata": {},
   "outputs": [],
   "source": []
  }
 ],
 "metadata": {
  "kernelspec": {
   "display_name": "Python 3",
   "language": "python",
   "name": "python3"
  },
  "language_info": {
   "codemirror_mode": {
    "name": "ipython",
    "version": 3
   },
   "file_extension": ".py",
   "mimetype": "text/x-python",
   "name": "python",
   "nbconvert_exporter": "python",
   "pygments_lexer": "ipython3",
   "version": "3.11.3"
  }
 },
 "nbformat": 4,
 "nbformat_minor": 2
}
