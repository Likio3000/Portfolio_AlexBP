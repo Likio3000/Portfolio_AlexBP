{
 "cells": [
  {
   "cell_type": "code",
   "execution_count": 17,
   "metadata": {},
   "outputs": [],
   "source": [
    "import pandas as pd\n",
    "import numpy as np\n",
    "import sqlite3"
   ]
  },
  {
   "cell_type": "code",
   "execution_count": 19,
   "metadata": {},
   "outputs": [],
   "source": [
    "# Connect to the db and query for the time column\n",
    "\n",
    "try:\n",
    "    conn = sqlite3.connect('../BTC_data.db')\n",
    "    query = \"SELECT time FROM BTC_data;\"\n",
    "    df = pd.read_sql_query(query, conn)\n",
    "except sqlite3.Error as e:\n",
    "    print(f\"An error occurred: {e}\")\n",
    "finally:\n",
    "    if conn:\n",
    "        conn.close()\n"
   ]
  },
  {
   "cell_type": "code",
   "execution_count": 20,
   "metadata": {},
   "outputs": [],
   "source": [
    "# Feature Engineering\n",
    "\n",
    "df['time'] = pd.to_datetime(df['time'])\n",
    "df['hour'] = df['time'].dt.hour\n",
    "df['day_of_week'] = df['time'].dt.dayofweek  # Monday=0, Sunday=6\n",
    "\n",
    "# Define opening hours for USA (9-17 UTC), EU (8-16 UTC), ASIA (1-9 UTC)\n",
    "df['USA_open'] = (df['hour'] >= 9) & (df['hour'] < 17)\n",
    "df['EU_open'] = (df['hour'] >= 8) & (df['hour'] < 16)\n",
    "df['ASIA_open'] = (df['hour'] >= 1) & (df['hour'] < 9)\n"
   ]
  },
  {
   "cell_type": "code",
   "execution_count": 21,
   "metadata": {},
   "outputs": [
    {
     "data": {
      "text/html": [
       "<div>\n",
       "<style scoped>\n",
       "    .dataframe tbody tr th:only-of-type {\n",
       "        vertical-align: middle;\n",
       "    }\n",
       "\n",
       "    .dataframe tbody tr th {\n",
       "        vertical-align: top;\n",
       "    }\n",
       "\n",
       "    .dataframe thead th {\n",
       "        text-align: right;\n",
       "    }\n",
       "</style>\n",
       "<table border=\"1\" class=\"dataframe\">\n",
       "  <thead>\n",
       "    <tr style=\"text-align: right;\">\n",
       "      <th></th>\n",
       "      <th>time</th>\n",
       "      <th>hour</th>\n",
       "      <th>day_of_week</th>\n",
       "      <th>USA_open</th>\n",
       "      <th>EU_open</th>\n",
       "      <th>ASIA_open</th>\n",
       "    </tr>\n",
       "  </thead>\n",
       "  <tbody>\n",
       "    <tr>\n",
       "      <th>0</th>\n",
       "      <td>2022-09-01 06:45:00</td>\n",
       "      <td>6</td>\n",
       "      <td>3</td>\n",
       "      <td>False</td>\n",
       "      <td>False</td>\n",
       "      <td>True</td>\n",
       "    </tr>\n",
       "    <tr>\n",
       "      <th>1</th>\n",
       "      <td>2022-09-01 07:00:00</td>\n",
       "      <td>7</td>\n",
       "      <td>3</td>\n",
       "      <td>False</td>\n",
       "      <td>False</td>\n",
       "      <td>True</td>\n",
       "    </tr>\n",
       "    <tr>\n",
       "      <th>2</th>\n",
       "      <td>2022-09-01 07:15:00</td>\n",
       "      <td>7</td>\n",
       "      <td>3</td>\n",
       "      <td>False</td>\n",
       "      <td>False</td>\n",
       "      <td>True</td>\n",
       "    </tr>\n",
       "    <tr>\n",
       "      <th>3</th>\n",
       "      <td>2022-09-01 07:30:00</td>\n",
       "      <td>7</td>\n",
       "      <td>3</td>\n",
       "      <td>False</td>\n",
       "      <td>False</td>\n",
       "      <td>True</td>\n",
       "    </tr>\n",
       "    <tr>\n",
       "      <th>4</th>\n",
       "      <td>2022-09-01 07:45:00</td>\n",
       "      <td>7</td>\n",
       "      <td>3</td>\n",
       "      <td>False</td>\n",
       "      <td>False</td>\n",
       "      <td>True</td>\n",
       "    </tr>\n",
       "  </tbody>\n",
       "</table>\n",
       "</div>"
      ],
      "text/plain": [
       "                 time  hour  day_of_week  USA_open  EU_open  ASIA_open\n",
       "0 2022-09-01 06:45:00     6            3     False    False       True\n",
       "1 2022-09-01 07:00:00     7            3     False    False       True\n",
       "2 2022-09-01 07:15:00     7            3     False    False       True\n",
       "3 2022-09-01 07:30:00     7            3     False    False       True\n",
       "4 2022-09-01 07:45:00     7            3     False    False       True"
      ]
     },
     "execution_count": 21,
     "metadata": {},
     "output_type": "execute_result"
    }
   ],
   "source": [
    "df.head()"
   ]
  },
  {
   "cell_type": "markdown",
   "metadata": {},
   "source": [
    "# Append back to the db\n",
    "\n",
    "try:\n",
    "    conn = sqlite3.connect('../BTC_data.db')\n",
    "    # Append new columns only if they don't exist\n",
    "    cursor = conn.cursor()\n",
    "    cursor.execute(\"PRAGMA table_info(BTC_data);\")\n",
    "    existing_columns = [column[1] for column in cursor.fetchall()]\n",
    "    for col in ['hour', 'day_of_week', 'USA_open', 'EU_open', 'ASIA_open']:\n",
    "        if col not in existing_columns:\n",
    "            conn.execute(f\"ALTER TABLE BTC_data ADD COLUMN {col} INTEGER;\")\n",
    "    conn.commit()\n",
    "\n",
    "    # Update the new columns\n",
    "    for index, row in df.iterrows():\n",
    "        update_query = f\"\"\"\n",
    "        UPDATE BTC_data\n",
    "        SET hour = {row['hour']},\n",
    "            day_of_week = {row['day_of_week']},\n",
    "            USA_open = {int(row['USA_open'])},\n",
    "            EU_open = {int(row['EU_open'])},\n",
    "            ASIA_open = {int(row['ASIA_open'])}\n",
    "        WHERE time = \"{row['time']}\";\n",
    "        \"\"\"\n",
    "        conn.execute(update_query)\n",
    "    conn.commit()\n",
    "    \n",
    "    # Verify that the update is successful\n",
    "    df_check = pd.read_sql_query(\"SELECT * FROM BTC_data LIMIT 5;\", conn)\n",
    "    print(df_check)\n",
    "\n",
    "except sqlite3.Error as e:\n",
    "    print(f\"An error occurred: {e}\")\n",
    "    conn.rollback()\n",
    "finally:\n",
    "    if conn:\n",
    "        conn.close()\n",
    "\n"
   ]
  },
  {
   "cell_type": "code",
   "execution_count": 24,
   "metadata": {},
   "outputs": [
    {
     "data": {
      "text/plain": [
       "Index(['time', 'hour', 'day_of_week', 'USA_open', 'EU_open', 'ASIA_open'], dtype='object')"
      ]
     },
     "execution_count": 24,
     "metadata": {},
     "output_type": "execute_result"
    }
   ],
   "source": [
    "# Studying what other features we could add to the data from itself\n",
    "\n",
    "df.columns"
   ]
  }
 ],
 "metadata": {
  "kernelspec": {
   "display_name": "Python 3",
   "language": "python",
   "name": "python3"
  },
  "language_info": {
   "codemirror_mode": {
    "name": "ipython",
    "version": 3
   },
   "file_extension": ".py",
   "mimetype": "text/x-python",
   "name": "python",
   "nbconvert_exporter": "python",
   "pygments_lexer": "ipython3",
   "version": "3.11.3"
  }
 },
 "nbformat": 4,
 "nbformat_minor": 2
}
